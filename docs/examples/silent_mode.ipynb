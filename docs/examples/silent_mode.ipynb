{
 "cells": [
  {
   "cell_type": "markdown",
   "metadata": {},
   "source": [
    "# Running neptune in silent mode\n",
    "\n",
    "Sometimes you may want to run your code without sending anything to neptune.\n",
    "In those moments silent mode comes in handy."
   ]
  },
  {
   "cell_type": "code",
   "execution_count": null,
   "metadata": {},
   "outputs": [],
   "source": [
    "import neptune\n",
    "from neptunecontrib.api.utils import shush\n",
    "\n",
    "SILENT = True\n",
    "if SILENT:\n",
    "    neptune = shush(neptune)"
   ]
  },
  {
   "cell_type": "markdown",
   "metadata": {},
   "source": [
    "With this little snippet, you can easily switch between sending your experiment data to neptune or not."
   ]
  },
  {
   "cell_type": "code",
   "execution_count": null,
   "metadata": {},
   "outputs": [],
   "source": [
    "neptune.init('jakub-czakon/examples')\n",
    "\n",
    "with neptune.create_experiment():\n",
    "    neptune.set_property('data_path', 'path/to/data.csv')\n",
    "    neptune.log_metric('auc', 0.92)"
   ]
  }
 ],
 "metadata": {
  "kernelspec": {
   "display_name": "Python 3",
   "language": "python",
   "name": "python3"
  },
  "language_info": {
   "codemirror_mode": {
    "name": "ipython",
    "version": 3
   },
   "file_extension": ".py",
   "mimetype": "text/x-python",
   "name": "python",
   "nbconvert_exporter": "python",
   "pygments_lexer": "ipython3",
   "version": "3.6.8"
  }
 },
 "nbformat": 4,
 "nbformat_minor": 2
}
